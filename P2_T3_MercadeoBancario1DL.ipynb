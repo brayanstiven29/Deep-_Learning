{
  "nbformat": 4,
  "nbformat_minor": 0,
  "metadata": {
    "colab": {
      "name": "P2_T3_MercadeoBancarioDL.ipynb",
      "provenance": [],
      "collapsed_sections": [],
      "toc_visible": true
    },
    "kernelspec": {
      "name": "python3",
      "display_name": "Python 3"
    },
    "language_info": {
      "name": "python"
    }
  },
  "cells": [
    {
      "cell_type": "markdown",
      "source": [
        "#P1. Importar librerias"
      ],
      "metadata": {
        "id": "87vsNey88DXA"
      }
    },
    {
      "cell_type": "code",
      "execution_count": 1,
      "metadata": {
        "id": "Rw__tZgb7TyD"
      },
      "outputs": [],
      "source": [
        "import numpy as np\n",
        "import pandas as pd\n",
        "from sklearn.model_selection import train_test_split \n",
        "from keras.models import Sequential\n",
        "from keras.layers import Dense\n",
        "\n",
        "from sklearn import preprocessing # para convertir datos categoricos a numericos\n",
        "le =preprocessing.LabelEncoder()  #instanciamos el Codificador "
      ]
    },
    {
      "cell_type": "markdown",
      "source": [
        "#P2. Cargar dataset"
      ],
      "metadata": {
        "id": "-9DAeTDL8Lp8"
      }
    },
    {
      "cell_type": "code",
      "source": [
        "df_mb = pd.read_csv('https://raw.githubusercontent.com/luisFernandoCastellanosG/Machine_learning/master/1-Machine_Learning_Classic/Databasets/mercadeo_bancario.csv', encoding='utf-8')\n",
        "df_mb.head()"
      ],
      "metadata": {
        "colab": {
          "base_uri": "https://localhost:8080/",
          "height": 270
        },
        "id": "pmjU3sEl8OvB",
        "outputId": "0d7a1494-afe5-4b15-9937-7ee62105702a"
      },
      "execution_count": 2,
      "outputs": [
        {
          "output_type": "execute_result",
          "data": {
            "text/plain": [
              "   edad      trabajo estado_civil              educacion  total_hijos  \\\n",
              "0    44  blue-collar       married             preschool            7   \n",
              "1    53   technician       married               unknown            1   \n",
              "2    28   management        single     university.degree            3   \n",
              "3    39     services       married  Technological_school            1   \n",
              "4    55      retired       married             preschool            2   \n",
              "\n",
              "  credito_sin_pago prestamo_vivienda prestamo_personal  valor_prestamo  \\\n",
              "0          unknown               yes                no          268017   \n",
              "1               no                no                no               0   \n",
              "2               no               yes                no          308036   \n",
              "3               no                no                no               0   \n",
              "4               no               yes                no          249888   \n",
              "\n",
              "   dias_ultimo_pago  tarjetas_credito  contacto  mes dia_semana  \\\n",
              "0                 0                 5  cellular  aug        thu   \n",
              "1                 0                 0  cellular  nov        fri   \n",
              "2                 0                 0  cellular  jun        thu   \n",
              "3                 0                 4  cellular  apr        fri   \n",
              "4                 0                 4  cellular  aug        fri   \n",
              "\n",
              "   duracion_ultimo_contacto  dias_ultimo_contacto  anterior_contacto  \\\n",
              "0                       210                    43                  0   \n",
              "1                       138                     0                  0   \n",
              "2                       339                    27                  2   \n",
              "3                       185                     0                  0   \n",
              "4                       137                     2                  1   \n",
              "\n",
              "   numero_empleados  si_no  \n",
              "0                88      0  \n",
              "1                14      0  \n",
              "2              1993      1  \n",
              "3              1338      0  \n",
              "4              1184      1  "
            ],
            "text/html": [
              "\n",
              "  <div id=\"df-9909e221-7a56-4947-a6d6-9feb12c74c62\">\n",
              "    <div class=\"colab-df-container\">\n",
              "      <div>\n",
              "<style scoped>\n",
              "    .dataframe tbody tr th:only-of-type {\n",
              "        vertical-align: middle;\n",
              "    }\n",
              "\n",
              "    .dataframe tbody tr th {\n",
              "        vertical-align: top;\n",
              "    }\n",
              "\n",
              "    .dataframe thead th {\n",
              "        text-align: right;\n",
              "    }\n",
              "</style>\n",
              "<table border=\"1\" class=\"dataframe\">\n",
              "  <thead>\n",
              "    <tr style=\"text-align: right;\">\n",
              "      <th></th>\n",
              "      <th>edad</th>\n",
              "      <th>trabajo</th>\n",
              "      <th>estado_civil</th>\n",
              "      <th>educacion</th>\n",
              "      <th>total_hijos</th>\n",
              "      <th>credito_sin_pago</th>\n",
              "      <th>prestamo_vivienda</th>\n",
              "      <th>prestamo_personal</th>\n",
              "      <th>valor_prestamo</th>\n",
              "      <th>dias_ultimo_pago</th>\n",
              "      <th>tarjetas_credito</th>\n",
              "      <th>contacto</th>\n",
              "      <th>mes</th>\n",
              "      <th>dia_semana</th>\n",
              "      <th>duracion_ultimo_contacto</th>\n",
              "      <th>dias_ultimo_contacto</th>\n",
              "      <th>anterior_contacto</th>\n",
              "      <th>numero_empleados</th>\n",
              "      <th>si_no</th>\n",
              "    </tr>\n",
              "  </thead>\n",
              "  <tbody>\n",
              "    <tr>\n",
              "      <th>0</th>\n",
              "      <td>44</td>\n",
              "      <td>blue-collar</td>\n",
              "      <td>married</td>\n",
              "      <td>preschool</td>\n",
              "      <td>7</td>\n",
              "      <td>unknown</td>\n",
              "      <td>yes</td>\n",
              "      <td>no</td>\n",
              "      <td>268017</td>\n",
              "      <td>0</td>\n",
              "      <td>5</td>\n",
              "      <td>cellular</td>\n",
              "      <td>aug</td>\n",
              "      <td>thu</td>\n",
              "      <td>210</td>\n",
              "      <td>43</td>\n",
              "      <td>0</td>\n",
              "      <td>88</td>\n",
              "      <td>0</td>\n",
              "    </tr>\n",
              "    <tr>\n",
              "      <th>1</th>\n",
              "      <td>53</td>\n",
              "      <td>technician</td>\n",
              "      <td>married</td>\n",
              "      <td>unknown</td>\n",
              "      <td>1</td>\n",
              "      <td>no</td>\n",
              "      <td>no</td>\n",
              "      <td>no</td>\n",
              "      <td>0</td>\n",
              "      <td>0</td>\n",
              "      <td>0</td>\n",
              "      <td>cellular</td>\n",
              "      <td>nov</td>\n",
              "      <td>fri</td>\n",
              "      <td>138</td>\n",
              "      <td>0</td>\n",
              "      <td>0</td>\n",
              "      <td>14</td>\n",
              "      <td>0</td>\n",
              "    </tr>\n",
              "    <tr>\n",
              "      <th>2</th>\n",
              "      <td>28</td>\n",
              "      <td>management</td>\n",
              "      <td>single</td>\n",
              "      <td>university.degree</td>\n",
              "      <td>3</td>\n",
              "      <td>no</td>\n",
              "      <td>yes</td>\n",
              "      <td>no</td>\n",
              "      <td>308036</td>\n",
              "      <td>0</td>\n",
              "      <td>0</td>\n",
              "      <td>cellular</td>\n",
              "      <td>jun</td>\n",
              "      <td>thu</td>\n",
              "      <td>339</td>\n",
              "      <td>27</td>\n",
              "      <td>2</td>\n",
              "      <td>1993</td>\n",
              "      <td>1</td>\n",
              "    </tr>\n",
              "    <tr>\n",
              "      <th>3</th>\n",
              "      <td>39</td>\n",
              "      <td>services</td>\n",
              "      <td>married</td>\n",
              "      <td>Technological_school</td>\n",
              "      <td>1</td>\n",
              "      <td>no</td>\n",
              "      <td>no</td>\n",
              "      <td>no</td>\n",
              "      <td>0</td>\n",
              "      <td>0</td>\n",
              "      <td>4</td>\n",
              "      <td>cellular</td>\n",
              "      <td>apr</td>\n",
              "      <td>fri</td>\n",
              "      <td>185</td>\n",
              "      <td>0</td>\n",
              "      <td>0</td>\n",
              "      <td>1338</td>\n",
              "      <td>0</td>\n",
              "    </tr>\n",
              "    <tr>\n",
              "      <th>4</th>\n",
              "      <td>55</td>\n",
              "      <td>retired</td>\n",
              "      <td>married</td>\n",
              "      <td>preschool</td>\n",
              "      <td>2</td>\n",
              "      <td>no</td>\n",
              "      <td>yes</td>\n",
              "      <td>no</td>\n",
              "      <td>249888</td>\n",
              "      <td>0</td>\n",
              "      <td>4</td>\n",
              "      <td>cellular</td>\n",
              "      <td>aug</td>\n",
              "      <td>fri</td>\n",
              "      <td>137</td>\n",
              "      <td>2</td>\n",
              "      <td>1</td>\n",
              "      <td>1184</td>\n",
              "      <td>1</td>\n",
              "    </tr>\n",
              "  </tbody>\n",
              "</table>\n",
              "</div>\n",
              "      <button class=\"colab-df-convert\" onclick=\"convertToInteractive('df-9909e221-7a56-4947-a6d6-9feb12c74c62')\"\n",
              "              title=\"Convert this dataframe to an interactive table.\"\n",
              "              style=\"display:none;\">\n",
              "        \n",
              "  <svg xmlns=\"http://www.w3.org/2000/svg\" height=\"24px\"viewBox=\"0 0 24 24\"\n",
              "       width=\"24px\">\n",
              "    <path d=\"M0 0h24v24H0V0z\" fill=\"none\"/>\n",
              "    <path d=\"M18.56 5.44l.94 2.06.94-2.06 2.06-.94-2.06-.94-.94-2.06-.94 2.06-2.06.94zm-11 1L8.5 8.5l.94-2.06 2.06-.94-2.06-.94L8.5 2.5l-.94 2.06-2.06.94zm10 10l.94 2.06.94-2.06 2.06-.94-2.06-.94-.94-2.06-.94 2.06-2.06.94z\"/><path d=\"M17.41 7.96l-1.37-1.37c-.4-.4-.92-.59-1.43-.59-.52 0-1.04.2-1.43.59L10.3 9.45l-7.72 7.72c-.78.78-.78 2.05 0 2.83L4 21.41c.39.39.9.59 1.41.59.51 0 1.02-.2 1.41-.59l7.78-7.78 2.81-2.81c.8-.78.8-2.07 0-2.86zM5.41 20L4 18.59l7.72-7.72 1.47 1.35L5.41 20z\"/>\n",
              "  </svg>\n",
              "      </button>\n",
              "      \n",
              "  <style>\n",
              "    .colab-df-container {\n",
              "      display:flex;\n",
              "      flex-wrap:wrap;\n",
              "      gap: 12px;\n",
              "    }\n",
              "\n",
              "    .colab-df-convert {\n",
              "      background-color: #E8F0FE;\n",
              "      border: none;\n",
              "      border-radius: 50%;\n",
              "      cursor: pointer;\n",
              "      display: none;\n",
              "      fill: #1967D2;\n",
              "      height: 32px;\n",
              "      padding: 0 0 0 0;\n",
              "      width: 32px;\n",
              "    }\n",
              "\n",
              "    .colab-df-convert:hover {\n",
              "      background-color: #E2EBFA;\n",
              "      box-shadow: 0px 1px 2px rgba(60, 64, 67, 0.3), 0px 1px 3px 1px rgba(60, 64, 67, 0.15);\n",
              "      fill: #174EA6;\n",
              "    }\n",
              "\n",
              "    [theme=dark] .colab-df-convert {\n",
              "      background-color: #3B4455;\n",
              "      fill: #D2E3FC;\n",
              "    }\n",
              "\n",
              "    [theme=dark] .colab-df-convert:hover {\n",
              "      background-color: #434B5C;\n",
              "      box-shadow: 0px 1px 3px 1px rgba(0, 0, 0, 0.15);\n",
              "      filter: drop-shadow(0px 1px 2px rgba(0, 0, 0, 0.3));\n",
              "      fill: #FFFFFF;\n",
              "    }\n",
              "  </style>\n",
              "\n",
              "      <script>\n",
              "        const buttonEl =\n",
              "          document.querySelector('#df-9909e221-7a56-4947-a6d6-9feb12c74c62 button.colab-df-convert');\n",
              "        buttonEl.style.display =\n",
              "          google.colab.kernel.accessAllowed ? 'block' : 'none';\n",
              "\n",
              "        async function convertToInteractive(key) {\n",
              "          const element = document.querySelector('#df-9909e221-7a56-4947-a6d6-9feb12c74c62');\n",
              "          const dataTable =\n",
              "            await google.colab.kernel.invokeFunction('convertToInteractive',\n",
              "                                                     [key], {});\n",
              "          if (!dataTable) return;\n",
              "\n",
              "          const docLinkHtml = 'Like what you see? Visit the ' +\n",
              "            '<a target=\"_blank\" href=https://colab.research.google.com/notebooks/data_table.ipynb>data table notebook</a>'\n",
              "            + ' to learn more about interactive tables.';\n",
              "          element.innerHTML = '';\n",
              "          dataTable['output_type'] = 'display_data';\n",
              "          await google.colab.output.renderOutput(dataTable, element);\n",
              "          const docLink = document.createElement('div');\n",
              "          docLink.innerHTML = docLinkHtml;\n",
              "          element.appendChild(docLink);\n",
              "        }\n",
              "      </script>\n",
              "    </div>\n",
              "  </div>\n",
              "  "
            ]
          },
          "metadata": {},
          "execution_count": 2
        }
      ]
    },
    {
      "cell_type": "code",
      "source": [
        "df_mb.info()"
      ],
      "metadata": {
        "colab": {
          "base_uri": "https://localhost:8080/"
        },
        "id": "g0WjGnXG8w1x",
        "outputId": "6275445c-2c2f-4d8b-cdbc-885940408bc3"
      },
      "execution_count": 3,
      "outputs": [
        {
          "output_type": "stream",
          "name": "stdout",
          "text": [
            "<class 'pandas.core.frame.DataFrame'>\n",
            "RangeIndex: 41188 entries, 0 to 41187\n",
            "Data columns (total 19 columns):\n",
            " #   Column                    Non-Null Count  Dtype \n",
            "---  ------                    --------------  ----- \n",
            " 0   edad                      41188 non-null  int64 \n",
            " 1   trabajo                   41188 non-null  object\n",
            " 2   estado_civil              41188 non-null  object\n",
            " 3   educacion                 41188 non-null  object\n",
            " 4   total_hijos               41188 non-null  int64 \n",
            " 5   credito_sin_pago          41188 non-null  object\n",
            " 6   prestamo_vivienda         41188 non-null  object\n",
            " 7   prestamo_personal         41188 non-null  object\n",
            " 8   valor_prestamo            41188 non-null  int64 \n",
            " 9   dias_ultimo_pago          41188 non-null  int64 \n",
            " 10  tarjetas_credito          41188 non-null  int64 \n",
            " 11  contacto                  41188 non-null  object\n",
            " 12  mes                       41188 non-null  object\n",
            " 13  dia_semana                41188 non-null  object\n",
            " 14  duracion_ultimo_contacto  41188 non-null  int64 \n",
            " 15  dias_ultimo_contacto      41188 non-null  int64 \n",
            " 16  anterior_contacto         41188 non-null  int64 \n",
            " 17  numero_empleados          41188 non-null  int64 \n",
            " 18  si_no                     41188 non-null  int64 \n",
            "dtypes: int64(10), object(9)\n",
            "memory usage: 6.0+ MB\n"
          ]
        }
      ]
    },
    {
      "cell_type": "markdown",
      "source": [
        "#P2.1 Conociendo la data y corrigiendola:"
      ],
      "metadata": {
        "id": "qoGlw5kB803i"
      }
    },
    {
      "cell_type": "code",
      "source": [
        "trabajo = {\n",
        "    'unknown': 0,\n",
        "    'admin.': 1, \n",
        "    'housemaid': 2, \n",
        "    'management': 3, \n",
        "    'retired': 4, \n",
        "    'self-employed': 5, \n",
        "    'student': 6, \n",
        "    'technician': 7, \n",
        "    'unemployed': 8,\n",
        "    'blue-collar': 9,\n",
        "    'services': 10,\n",
        "    'entrepreneur': 11\n",
        "    }\n",
        "df_mb['trabajo'] = df_mb['trabajo'].map(trabajo)"
      ],
      "metadata": {
        "id": "Xb08jD4f84nB"
      },
      "execution_count": 4,
      "outputs": []
    },
    {
      "cell_type": "code",
      "source": [
        "estado_civil = {\n",
        "    'unknown': 0,\n",
        "    'single': 1,\n",
        "    'married': 2,\n",
        "    'divorced' : 3\n",
        "    }\n",
        "df_mb['estado_civil '] = df_mb['estado_civil '].map(estado_civil)"
      ],
      "metadata": {
        "id": "L7sP5eWo9q2u"
      },
      "execution_count": 5,
      "outputs": []
    },
    {
      "cell_type": "code",
      "source": [
        "educacion = {\n",
        "    'unknown': 0,\n",
        "    'preschool': 1,\n",
        "    'primary_school': 2,\n",
        "    'tecnical_school': 3,\n",
        "    'Technological_school': 4,\n",
        "    'illiterate': 5,\n",
        "    'professional.course': 6,\n",
        "    'university.degree': 7\n",
        "}\n",
        "df_mb['educacion'] = df_mb['educacion'].map(educacion)"
      ],
      "metadata": {
        "id": "tLZBADzc9tlc"
      },
      "execution_count": 6,
      "outputs": []
    },
    {
      "cell_type": "code",
      "source": [
        "credito_sin_pago = {\n",
        "    'no': 0,\n",
        "    'yes': 1,\n",
        "    'unknown': 2\n",
        "}\n",
        "df_mb['credito_sin_pago'] = df_mb['credito_sin_pago'].map(credito_sin_pago)"
      ],
      "metadata": {
        "id": "DXxqrdX39vNc"
      },
      "execution_count": 7,
      "outputs": []
    },
    {
      "cell_type": "code",
      "source": [
        "prestamo_vivienda = {\n",
        "    'no': 0,\n",
        "    'yes': 1,\n",
        "    'unknown': 2\n",
        "}\n",
        "df_mb['prestamo_vivienda'] = df_mb['prestamo_vivienda'].map(prestamo_vivienda)"
      ],
      "metadata": {
        "id": "yqEb6N1J9wJk"
      },
      "execution_count": 8,
      "outputs": []
    },
    {
      "cell_type": "code",
      "source": [
        "prestamo_personal = {\n",
        "    'no': 0,\n",
        "    'yes': 1,\n",
        "    'unknown': 2\n",
        "}\n",
        "df_mb['prestamo_personal'] = df_mb['prestamo_personal'].map(prestamo_personal)"
      ],
      "metadata": {
        "id": "K3oXuEZV9yJS"
      },
      "execution_count": 9,
      "outputs": []
    },
    {
      "cell_type": "code",
      "source": [
        "contacto = {\n",
        "    'cellular': 1,\n",
        "    'telephone': 2,\n",
        "}\n",
        "df_mb['contacto'] = df_mb['contacto'].map(contacto)"
      ],
      "metadata": {
        "id": "-unuD7Gl911T"
      },
      "execution_count": 10,
      "outputs": []
    },
    {
      "cell_type": "code",
      "source": [
        "mes = {\n",
        "    'jan': 1,\n",
        "    'feb': 2,\n",
        "    'mar': 3,\n",
        "    'apr': 4,\n",
        "    'may': 5,\n",
        "    'jun': 6,\n",
        "    'jul': 7,\n",
        "    'aug': 8,\n",
        "    'sep': 9,\n",
        "    'oct': 10,\n",
        "    'nov': 11,\n",
        "    'dec': 12\n",
        "}\n",
        "df_mb['mes'] = df_mb['mes'].map(mes)"
      ],
      "metadata": {
        "id": "-lWO9qCa93n5"
      },
      "execution_count": 11,
      "outputs": []
    },
    {
      "cell_type": "code",
      "source": [
        "dia_semana = {\n",
        "    'sun': 1,\n",
        "    'mon': 2,\n",
        "    'tue': 3,\n",
        "    'wed': 4,\n",
        "    'thu': 5,\n",
        "    'fri': 6,\n",
        "    'sat': 7\n",
        "}\n",
        "df_mb['dia_semana'] = df_mb['dia_semana'].map(dia_semana)"
      ],
      "metadata": {
        "id": "YiScFh7P942Q"
      },
      "execution_count": 12,
      "outputs": []
    },
    {
      "cell_type": "code",
      "source": [
        "df_mb.head()"
      ],
      "metadata": {
        "colab": {
          "base_uri": "https://localhost:8080/",
          "height": 270
        },
        "id": "bcgoaudU968n",
        "outputId": "bb889f09-f6e1-4497-8070-16b88cedea15"
      },
      "execution_count": 13,
      "outputs": [
        {
          "output_type": "execute_result",
          "data": {
            "text/plain": [
              "   edad  trabajo  estado_civil   educacion  total_hijos  credito_sin_pago  \\\n",
              "0    44        9              2          1            7                 2   \n",
              "1    53        7              2          0            1                 0   \n",
              "2    28        3              1          7            3                 0   \n",
              "3    39       10              2          4            1                 0   \n",
              "4    55        4              2          1            2                 0   \n",
              "\n",
              "   prestamo_vivienda  prestamo_personal  valor_prestamo  dias_ultimo_pago  \\\n",
              "0                  1                  0          268017                 0   \n",
              "1                  0                  0               0                 0   \n",
              "2                  1                  0          308036                 0   \n",
              "3                  0                  0               0                 0   \n",
              "4                  1                  0          249888                 0   \n",
              "\n",
              "   tarjetas_credito  contacto  mes  dia_semana  duracion_ultimo_contacto  \\\n",
              "0                 5         1    8           5                       210   \n",
              "1                 0         1   11           6                       138   \n",
              "2                 0         1    6           5                       339   \n",
              "3                 4         1    4           6                       185   \n",
              "4                 4         1    8           6                       137   \n",
              "\n",
              "   dias_ultimo_contacto  anterior_contacto  numero_empleados  si_no  \n",
              "0                    43                  0                88      0  \n",
              "1                     0                  0                14      0  \n",
              "2                    27                  2              1993      1  \n",
              "3                     0                  0              1338      0  \n",
              "4                     2                  1              1184      1  "
            ],
            "text/html": [
              "\n",
              "  <div id=\"df-77f6fdb4-e9a2-4119-adef-89dc1229bb47\">\n",
              "    <div class=\"colab-df-container\">\n",
              "      <div>\n",
              "<style scoped>\n",
              "    .dataframe tbody tr th:only-of-type {\n",
              "        vertical-align: middle;\n",
              "    }\n",
              "\n",
              "    .dataframe tbody tr th {\n",
              "        vertical-align: top;\n",
              "    }\n",
              "\n",
              "    .dataframe thead th {\n",
              "        text-align: right;\n",
              "    }\n",
              "</style>\n",
              "<table border=\"1\" class=\"dataframe\">\n",
              "  <thead>\n",
              "    <tr style=\"text-align: right;\">\n",
              "      <th></th>\n",
              "      <th>edad</th>\n",
              "      <th>trabajo</th>\n",
              "      <th>estado_civil</th>\n",
              "      <th>educacion</th>\n",
              "      <th>total_hijos</th>\n",
              "      <th>credito_sin_pago</th>\n",
              "      <th>prestamo_vivienda</th>\n",
              "      <th>prestamo_personal</th>\n",
              "      <th>valor_prestamo</th>\n",
              "      <th>dias_ultimo_pago</th>\n",
              "      <th>tarjetas_credito</th>\n",
              "      <th>contacto</th>\n",
              "      <th>mes</th>\n",
              "      <th>dia_semana</th>\n",
              "      <th>duracion_ultimo_contacto</th>\n",
              "      <th>dias_ultimo_contacto</th>\n",
              "      <th>anterior_contacto</th>\n",
              "      <th>numero_empleados</th>\n",
              "      <th>si_no</th>\n",
              "    </tr>\n",
              "  </thead>\n",
              "  <tbody>\n",
              "    <tr>\n",
              "      <th>0</th>\n",
              "      <td>44</td>\n",
              "      <td>9</td>\n",
              "      <td>2</td>\n",
              "      <td>1</td>\n",
              "      <td>7</td>\n",
              "      <td>2</td>\n",
              "      <td>1</td>\n",
              "      <td>0</td>\n",
              "      <td>268017</td>\n",
              "      <td>0</td>\n",
              "      <td>5</td>\n",
              "      <td>1</td>\n",
              "      <td>8</td>\n",
              "      <td>5</td>\n",
              "      <td>210</td>\n",
              "      <td>43</td>\n",
              "      <td>0</td>\n",
              "      <td>88</td>\n",
              "      <td>0</td>\n",
              "    </tr>\n",
              "    <tr>\n",
              "      <th>1</th>\n",
              "      <td>53</td>\n",
              "      <td>7</td>\n",
              "      <td>2</td>\n",
              "      <td>0</td>\n",
              "      <td>1</td>\n",
              "      <td>0</td>\n",
              "      <td>0</td>\n",
              "      <td>0</td>\n",
              "      <td>0</td>\n",
              "      <td>0</td>\n",
              "      <td>0</td>\n",
              "      <td>1</td>\n",
              "      <td>11</td>\n",
              "      <td>6</td>\n",
              "      <td>138</td>\n",
              "      <td>0</td>\n",
              "      <td>0</td>\n",
              "      <td>14</td>\n",
              "      <td>0</td>\n",
              "    </tr>\n",
              "    <tr>\n",
              "      <th>2</th>\n",
              "      <td>28</td>\n",
              "      <td>3</td>\n",
              "      <td>1</td>\n",
              "      <td>7</td>\n",
              "      <td>3</td>\n",
              "      <td>0</td>\n",
              "      <td>1</td>\n",
              "      <td>0</td>\n",
              "      <td>308036</td>\n",
              "      <td>0</td>\n",
              "      <td>0</td>\n",
              "      <td>1</td>\n",
              "      <td>6</td>\n",
              "      <td>5</td>\n",
              "      <td>339</td>\n",
              "      <td>27</td>\n",
              "      <td>2</td>\n",
              "      <td>1993</td>\n",
              "      <td>1</td>\n",
              "    </tr>\n",
              "    <tr>\n",
              "      <th>3</th>\n",
              "      <td>39</td>\n",
              "      <td>10</td>\n",
              "      <td>2</td>\n",
              "      <td>4</td>\n",
              "      <td>1</td>\n",
              "      <td>0</td>\n",
              "      <td>0</td>\n",
              "      <td>0</td>\n",
              "      <td>0</td>\n",
              "      <td>0</td>\n",
              "      <td>4</td>\n",
              "      <td>1</td>\n",
              "      <td>4</td>\n",
              "      <td>6</td>\n",
              "      <td>185</td>\n",
              "      <td>0</td>\n",
              "      <td>0</td>\n",
              "      <td>1338</td>\n",
              "      <td>0</td>\n",
              "    </tr>\n",
              "    <tr>\n",
              "      <th>4</th>\n",
              "      <td>55</td>\n",
              "      <td>4</td>\n",
              "      <td>2</td>\n",
              "      <td>1</td>\n",
              "      <td>2</td>\n",
              "      <td>0</td>\n",
              "      <td>1</td>\n",
              "      <td>0</td>\n",
              "      <td>249888</td>\n",
              "      <td>0</td>\n",
              "      <td>4</td>\n",
              "      <td>1</td>\n",
              "      <td>8</td>\n",
              "      <td>6</td>\n",
              "      <td>137</td>\n",
              "      <td>2</td>\n",
              "      <td>1</td>\n",
              "      <td>1184</td>\n",
              "      <td>1</td>\n",
              "    </tr>\n",
              "  </tbody>\n",
              "</table>\n",
              "</div>\n",
              "      <button class=\"colab-df-convert\" onclick=\"convertToInteractive('df-77f6fdb4-e9a2-4119-adef-89dc1229bb47')\"\n",
              "              title=\"Convert this dataframe to an interactive table.\"\n",
              "              style=\"display:none;\">\n",
              "        \n",
              "  <svg xmlns=\"http://www.w3.org/2000/svg\" height=\"24px\"viewBox=\"0 0 24 24\"\n",
              "       width=\"24px\">\n",
              "    <path d=\"M0 0h24v24H0V0z\" fill=\"none\"/>\n",
              "    <path d=\"M18.56 5.44l.94 2.06.94-2.06 2.06-.94-2.06-.94-.94-2.06-.94 2.06-2.06.94zm-11 1L8.5 8.5l.94-2.06 2.06-.94-2.06-.94L8.5 2.5l-.94 2.06-2.06.94zm10 10l.94 2.06.94-2.06 2.06-.94-2.06-.94-.94-2.06-.94 2.06-2.06.94z\"/><path d=\"M17.41 7.96l-1.37-1.37c-.4-.4-.92-.59-1.43-.59-.52 0-1.04.2-1.43.59L10.3 9.45l-7.72 7.72c-.78.78-.78 2.05 0 2.83L4 21.41c.39.39.9.59 1.41.59.51 0 1.02-.2 1.41-.59l7.78-7.78 2.81-2.81c.8-.78.8-2.07 0-2.86zM5.41 20L4 18.59l7.72-7.72 1.47 1.35L5.41 20z\"/>\n",
              "  </svg>\n",
              "      </button>\n",
              "      \n",
              "  <style>\n",
              "    .colab-df-container {\n",
              "      display:flex;\n",
              "      flex-wrap:wrap;\n",
              "      gap: 12px;\n",
              "    }\n",
              "\n",
              "    .colab-df-convert {\n",
              "      background-color: #E8F0FE;\n",
              "      border: none;\n",
              "      border-radius: 50%;\n",
              "      cursor: pointer;\n",
              "      display: none;\n",
              "      fill: #1967D2;\n",
              "      height: 32px;\n",
              "      padding: 0 0 0 0;\n",
              "      width: 32px;\n",
              "    }\n",
              "\n",
              "    .colab-df-convert:hover {\n",
              "      background-color: #E2EBFA;\n",
              "      box-shadow: 0px 1px 2px rgba(60, 64, 67, 0.3), 0px 1px 3px 1px rgba(60, 64, 67, 0.15);\n",
              "      fill: #174EA6;\n",
              "    }\n",
              "\n",
              "    [theme=dark] .colab-df-convert {\n",
              "      background-color: #3B4455;\n",
              "      fill: #D2E3FC;\n",
              "    }\n",
              "\n",
              "    [theme=dark] .colab-df-convert:hover {\n",
              "      background-color: #434B5C;\n",
              "      box-shadow: 0px 1px 3px 1px rgba(0, 0, 0, 0.15);\n",
              "      filter: drop-shadow(0px 1px 2px rgba(0, 0, 0, 0.3));\n",
              "      fill: #FFFFFF;\n",
              "    }\n",
              "  </style>\n",
              "\n",
              "      <script>\n",
              "        const buttonEl =\n",
              "          document.querySelector('#df-77f6fdb4-e9a2-4119-adef-89dc1229bb47 button.colab-df-convert');\n",
              "        buttonEl.style.display =\n",
              "          google.colab.kernel.accessAllowed ? 'block' : 'none';\n",
              "\n",
              "        async function convertToInteractive(key) {\n",
              "          const element = document.querySelector('#df-77f6fdb4-e9a2-4119-adef-89dc1229bb47');\n",
              "          const dataTable =\n",
              "            await google.colab.kernel.invokeFunction('convertToInteractive',\n",
              "                                                     [key], {});\n",
              "          if (!dataTable) return;\n",
              "\n",
              "          const docLinkHtml = 'Like what you see? Visit the ' +\n",
              "            '<a target=\"_blank\" href=https://colab.research.google.com/notebooks/data_table.ipynb>data table notebook</a>'\n",
              "            + ' to learn more about interactive tables.';\n",
              "          element.innerHTML = '';\n",
              "          dataTable['output_type'] = 'display_data';\n",
              "          await google.colab.output.renderOutput(dataTable, element);\n",
              "          const docLink = document.createElement('div');\n",
              "          docLink.innerHTML = docLinkHtml;\n",
              "          element.appendChild(docLink);\n",
              "        }\n",
              "      </script>\n",
              "    </div>\n",
              "  </div>\n",
              "  "
            ]
          },
          "metadata": {},
          "execution_count": 13
        }
      ]
    },
    {
      "cell_type": "code",
      "source": [
        "df_mb.info()"
      ],
      "metadata": {
        "colab": {
          "base_uri": "https://localhost:8080/"
        },
        "id": "TO_2otq39-l7",
        "outputId": "367d3558-07a5-4850-ee07-e55f73d5bead"
      },
      "execution_count": 14,
      "outputs": [
        {
          "output_type": "stream",
          "name": "stdout",
          "text": [
            "<class 'pandas.core.frame.DataFrame'>\n",
            "RangeIndex: 41188 entries, 0 to 41187\n",
            "Data columns (total 19 columns):\n",
            " #   Column                    Non-Null Count  Dtype\n",
            "---  ------                    --------------  -----\n",
            " 0   edad                      41188 non-null  int64\n",
            " 1   trabajo                   41188 non-null  int64\n",
            " 2   estado_civil              41188 non-null  int64\n",
            " 3   educacion                 41188 non-null  int64\n",
            " 4   total_hijos               41188 non-null  int64\n",
            " 5   credito_sin_pago          41188 non-null  int64\n",
            " 6   prestamo_vivienda         41188 non-null  int64\n",
            " 7   prestamo_personal         41188 non-null  int64\n",
            " 8   valor_prestamo            41188 non-null  int64\n",
            " 9   dias_ultimo_pago          41188 non-null  int64\n",
            " 10  tarjetas_credito          41188 non-null  int64\n",
            " 11  contacto                  41188 non-null  int64\n",
            " 12  mes                       41188 non-null  int64\n",
            " 13  dia_semana                41188 non-null  int64\n",
            " 14  duracion_ultimo_contacto  41188 non-null  int64\n",
            " 15  dias_ultimo_contacto      41188 non-null  int64\n",
            " 16  anterior_contacto         41188 non-null  int64\n",
            " 17  numero_empleados          41188 non-null  int64\n",
            " 18  si_no                     41188 non-null  int64\n",
            "dtypes: int64(19)\n",
            "memory usage: 6.0 MB\n"
          ]
        }
      ]
    },
    {
      "cell_type": "markdown",
      "source": [
        "#P3. Dividir los datos de entrada y salida(categoría)"
      ],
      "metadata": {
        "id": "GL7DTeMu-B4r"
      }
    },
    {
      "cell_type": "code",
      "source": [
        "X = df_mb[['trabajo', 'edad', 'educacion']]\n",
        "y = df_mb['si_no']\n",
        "X.info()"
      ],
      "metadata": {
        "colab": {
          "base_uri": "https://localhost:8080/"
        },
        "id": "kl8ZjnBW-JWt",
        "outputId": "6dc0357d-b643-457b-d99c-36ea1a196f14"
      },
      "execution_count": 15,
      "outputs": [
        {
          "output_type": "stream",
          "name": "stdout",
          "text": [
            "<class 'pandas.core.frame.DataFrame'>\n",
            "RangeIndex: 41188 entries, 0 to 41187\n",
            "Data columns (total 3 columns):\n",
            " #   Column     Non-Null Count  Dtype\n",
            "---  ------     --------------  -----\n",
            " 0   trabajo    41188 non-null  int64\n",
            " 1   edad       41188 non-null  int64\n",
            " 2   educacion  41188 non-null  int64\n",
            "dtypes: int64(3)\n",
            "memory usage: 965.5 KB\n"
          ]
        }
      ]
    },
    {
      "cell_type": "code",
      "source": [
        "X_train,X_test,Y_train,Y_test = train_test_split(X,y,test_size=0.25,random_state=42)"
      ],
      "metadata": {
        "id": "qFnOy5We-Zwj"
      },
      "execution_count": 16,
      "outputs": []
    },
    {
      "cell_type": "markdown",
      "source": [
        "#P4. Creando el modelo con DL\n"
      ],
      "metadata": {
        "id": "HNG8Y2OW-e87"
      }
    },
    {
      "cell_type": "code",
      "source": [
        "# crea el modelo\n",
        "model3 = Sequential()\n",
        "model3.add(Dense(8, input_dim=3, activation='relu'))   #Dos capas en una(1° con 8 neuronas (caracteristicas de entrada), 2° con 16 neuronas  )\n",
        "model3.add(Dense(16, activation='relu'))\n",
        "model3.add(Dense(32, activation='relu'))\n",
        "model3.add(Dense(1, activation='sigmoid'))  #Como es una clasificación binaria usaremos sigmoid\n",
        "model3.summary()"
      ],
      "metadata": {
        "colab": {
          "base_uri": "https://localhost:8080/"
        },
        "id": "l6LKvivT-hB_",
        "outputId": "e674a9e1-4608-4d27-b41e-82e992d457ad"
      },
      "execution_count": 17,
      "outputs": [
        {
          "output_type": "stream",
          "name": "stdout",
          "text": [
            "Model: \"sequential\"\n",
            "_________________________________________________________________\n",
            " Layer (type)                Output Shape              Param #   \n",
            "=================================================================\n",
            " dense (Dense)               (None, 8)                 32        \n",
            "                                                                 \n",
            " dense_1 (Dense)             (None, 16)                144       \n",
            "                                                                 \n",
            " dense_2 (Dense)             (None, 32)                544       \n",
            "                                                                 \n",
            " dense_3 (Dense)             (None, 1)                 33        \n",
            "                                                                 \n",
            "=================================================================\n",
            "Total params: 753\n",
            "Trainable params: 753\n",
            "Non-trainable params: 0\n",
            "_________________________________________________________________\n"
          ]
        }
      ]
    },
    {
      "cell_type": "markdown",
      "source": [
        "# P5. Compilando modelo DL\n"
      ],
      "metadata": {
        "id": "TbJjg7z9-kRD"
      }
    },
    {
      "cell_type": "code",
      "source": [
        "model3.compile(loss='binary_crossentropy',optimizer='adam', metrics=['accuracy'])"
      ],
      "metadata": {
        "id": "jz3WMA49-mR0"
      },
      "execution_count": 18,
      "outputs": []
    },
    {
      "cell_type": "markdown",
      "source": [
        "#P6. Entrenando modelo DL\n",
        "\n"
      ],
      "metadata": {
        "id": "AP9udYEI-rU7"
      }
    },
    {
      "cell_type": "code",
      "source": [
        "historial = model3.fit(X_train, Y_train, epochs=100, batch_size=10)"
      ],
      "metadata": {
        "colab": {
          "base_uri": "https://localhost:8080/"
        },
        "id": "2rSRxQCE-q3Q",
        "outputId": "5d9454dd-dc68-4c6d-f167-327db4ccbd3a"
      },
      "execution_count": 19,
      "outputs": [
        {
          "output_type": "stream",
          "name": "stdout",
          "text": [
            "Epoch 1/100\n",
            "3090/3090 [==============================] - 6s 2ms/step - loss: 0.3560 - accuracy: 0.8882\n",
            "Epoch 2/100\n",
            "3090/3090 [==============================] - 6s 2ms/step - loss: 0.3486 - accuracy: 0.8882\n",
            "Epoch 3/100\n",
            "3090/3090 [==============================] - 6s 2ms/step - loss: 0.3456 - accuracy: 0.8882\n",
            "Epoch 4/100\n",
            "3090/3090 [==============================] - 5s 2ms/step - loss: 0.3434 - accuracy: 0.8884\n",
            "Epoch 5/100\n",
            "3090/3090 [==============================] - 5s 2ms/step - loss: 0.3418 - accuracy: 0.8885\n",
            "Epoch 6/100\n",
            "3090/3090 [==============================] - 6s 2ms/step - loss: 0.3412 - accuracy: 0.8886\n",
            "Epoch 7/100\n",
            "3090/3090 [==============================] - 6s 2ms/step - loss: 0.3410 - accuracy: 0.8884\n",
            "Epoch 8/100\n",
            "3090/3090 [==============================] - 6s 2ms/step - loss: 0.3410 - accuracy: 0.8883\n",
            "Epoch 9/100\n",
            "3090/3090 [==============================] - 6s 2ms/step - loss: 0.3403 - accuracy: 0.8884\n",
            "Epoch 10/100\n",
            "3090/3090 [==============================] - 5s 2ms/step - loss: 0.3404 - accuracy: 0.8881\n",
            "Epoch 11/100\n",
            "3090/3090 [==============================] - 5s 2ms/step - loss: 0.3394 - accuracy: 0.8882\n",
            "Epoch 12/100\n",
            "3090/3090 [==============================] - 6s 2ms/step - loss: 0.3394 - accuracy: 0.8882\n",
            "Epoch 13/100\n",
            "3090/3090 [==============================] - 5s 2ms/step - loss: 0.3391 - accuracy: 0.8883\n",
            "Epoch 14/100\n",
            "3090/3090 [==============================] - 6s 2ms/step - loss: 0.3395 - accuracy: 0.8881\n",
            "Epoch 15/100\n",
            "3090/3090 [==============================] - 5s 2ms/step - loss: 0.3390 - accuracy: 0.8886\n",
            "Epoch 16/100\n",
            "3090/3090 [==============================] - 5s 2ms/step - loss: 0.3396 - accuracy: 0.8883\n",
            "Epoch 17/100\n",
            "3090/3090 [==============================] - 5s 2ms/step - loss: 0.3387 - accuracy: 0.8887\n",
            "Epoch 18/100\n",
            "3090/3090 [==============================] - 5s 2ms/step - loss: 0.3385 - accuracy: 0.8883\n",
            "Epoch 19/100\n",
            "3090/3090 [==============================] - 5s 2ms/step - loss: 0.3390 - accuracy: 0.8884\n",
            "Epoch 20/100\n",
            "3090/3090 [==============================] - 5s 2ms/step - loss: 0.3380 - accuracy: 0.8885\n",
            "Epoch 21/100\n",
            "3090/3090 [==============================] - 5s 2ms/step - loss: 0.3377 - accuracy: 0.8880\n",
            "Epoch 22/100\n",
            "3090/3090 [==============================] - 6s 2ms/step - loss: 0.3380 - accuracy: 0.8884\n",
            "Epoch 23/100\n",
            "3090/3090 [==============================] - 5s 2ms/step - loss: 0.3379 - accuracy: 0.8880\n",
            "Epoch 24/100\n",
            "3090/3090 [==============================] - 5s 2ms/step - loss: 0.3376 - accuracy: 0.8885\n",
            "Epoch 25/100\n",
            "3090/3090 [==============================] - 5s 2ms/step - loss: 0.3376 - accuracy: 0.8883\n",
            "Epoch 26/100\n",
            "3090/3090 [==============================] - 6s 2ms/step - loss: 0.3377 - accuracy: 0.8885\n",
            "Epoch 27/100\n",
            "3090/3090 [==============================] - 5s 2ms/step - loss: 0.3373 - accuracy: 0.8877\n",
            "Epoch 28/100\n",
            "3090/3090 [==============================] - 6s 2ms/step - loss: 0.3374 - accuracy: 0.8879\n",
            "Epoch 29/100\n",
            "3090/3090 [==============================] - 6s 2ms/step - loss: 0.3372 - accuracy: 0.8880\n",
            "Epoch 30/100\n",
            "3090/3090 [==============================] - 5s 2ms/step - loss: 0.3374 - accuracy: 0.8883\n",
            "Epoch 31/100\n",
            "3090/3090 [==============================] - 6s 2ms/step - loss: 0.3376 - accuracy: 0.8881\n",
            "Epoch 32/100\n",
            "3090/3090 [==============================] - 6s 2ms/step - loss: 0.3371 - accuracy: 0.8885\n",
            "Epoch 33/100\n",
            "3090/3090 [==============================] - 5s 2ms/step - loss: 0.3373 - accuracy: 0.8880\n",
            "Epoch 34/100\n",
            "3090/3090 [==============================] - 5s 2ms/step - loss: 0.3375 - accuracy: 0.8884\n",
            "Epoch 35/100\n",
            "3090/3090 [==============================] - 6s 2ms/step - loss: 0.3373 - accuracy: 0.8882\n",
            "Epoch 36/100\n",
            "3090/3090 [==============================] - 5s 2ms/step - loss: 0.3368 - accuracy: 0.8887\n",
            "Epoch 37/100\n",
            "3090/3090 [==============================] - 5s 2ms/step - loss: 0.3370 - accuracy: 0.8885\n",
            "Epoch 38/100\n",
            "3090/3090 [==============================] - 6s 2ms/step - loss: 0.3368 - accuracy: 0.8879\n",
            "Epoch 39/100\n",
            "3090/3090 [==============================] - 6s 2ms/step - loss: 0.3371 - accuracy: 0.8883\n",
            "Epoch 40/100\n",
            "3090/3090 [==============================] - 6s 2ms/step - loss: 0.3368 - accuracy: 0.8880\n",
            "Epoch 41/100\n",
            "3090/3090 [==============================] - 5s 2ms/step - loss: 0.3367 - accuracy: 0.8889\n",
            "Epoch 42/100\n",
            "3090/3090 [==============================] - 5s 2ms/step - loss: 0.3372 - accuracy: 0.8884\n",
            "Epoch 43/100\n",
            "3090/3090 [==============================] - 5s 2ms/step - loss: 0.3369 - accuracy: 0.8879\n",
            "Epoch 44/100\n",
            "3090/3090 [==============================] - 5s 2ms/step - loss: 0.3370 - accuracy: 0.8883\n",
            "Epoch 45/100\n",
            "3090/3090 [==============================] - 6s 2ms/step - loss: 0.3368 - accuracy: 0.8885\n",
            "Epoch 46/100\n",
            "3090/3090 [==============================] - 6s 2ms/step - loss: 0.3366 - accuracy: 0.8883\n",
            "Epoch 47/100\n",
            "3090/3090 [==============================] - 6s 2ms/step - loss: 0.3369 - accuracy: 0.8884\n",
            "Epoch 48/100\n",
            "3090/3090 [==============================] - 6s 2ms/step - loss: 0.3370 - accuracy: 0.8886\n",
            "Epoch 49/100\n",
            "3090/3090 [==============================] - 6s 2ms/step - loss: 0.3369 - accuracy: 0.8885\n",
            "Epoch 50/100\n",
            "3090/3090 [==============================] - 6s 2ms/step - loss: 0.3368 - accuracy: 0.8881\n",
            "Epoch 51/100\n",
            "3090/3090 [==============================] - 6s 2ms/step - loss: 0.3362 - accuracy: 0.8884\n",
            "Epoch 52/100\n",
            "3090/3090 [==============================] - 5s 2ms/step - loss: 0.3368 - accuracy: 0.8881\n",
            "Epoch 53/100\n",
            "3090/3090 [==============================] - 6s 2ms/step - loss: 0.3364 - accuracy: 0.8883\n",
            "Epoch 54/100\n",
            "3090/3090 [==============================] - 5s 2ms/step - loss: 0.3367 - accuracy: 0.8887\n",
            "Epoch 55/100\n",
            "3090/3090 [==============================] - 6s 2ms/step - loss: 0.3366 - accuracy: 0.8884\n",
            "Epoch 56/100\n",
            "3090/3090 [==============================] - 6s 2ms/step - loss: 0.3366 - accuracy: 0.8881\n",
            "Epoch 57/100\n",
            "3090/3090 [==============================] - 6s 2ms/step - loss: 0.3369 - accuracy: 0.8881\n",
            "Epoch 58/100\n",
            "3090/3090 [==============================] - 6s 2ms/step - loss: 0.3365 - accuracy: 0.8883\n",
            "Epoch 59/100\n",
            "3090/3090 [==============================] - 5s 2ms/step - loss: 0.3368 - accuracy: 0.8883\n",
            "Epoch 60/100\n",
            "3090/3090 [==============================] - 6s 2ms/step - loss: 0.3368 - accuracy: 0.8880\n",
            "Epoch 61/100\n",
            "3090/3090 [==============================] - 5s 2ms/step - loss: 0.3366 - accuracy: 0.8881\n",
            "Epoch 62/100\n",
            "3090/3090 [==============================] - 6s 2ms/step - loss: 0.3370 - accuracy: 0.8884\n",
            "Epoch 63/100\n",
            "3090/3090 [==============================] - 6s 2ms/step - loss: 0.3364 - accuracy: 0.8886\n",
            "Epoch 64/100\n",
            "3090/3090 [==============================] - 6s 2ms/step - loss: 0.3364 - accuracy: 0.8882\n",
            "Epoch 65/100\n",
            "3090/3090 [==============================] - 5s 2ms/step - loss: 0.3367 - accuracy: 0.8883\n",
            "Epoch 66/100\n",
            "3090/3090 [==============================] - 5s 2ms/step - loss: 0.3365 - accuracy: 0.8887\n",
            "Epoch 67/100\n",
            "3090/3090 [==============================] - 6s 2ms/step - loss: 0.3365 - accuracy: 0.8885\n",
            "Epoch 68/100\n",
            "3090/3090 [==============================] - 5s 2ms/step - loss: 0.3367 - accuracy: 0.8883\n",
            "Epoch 69/100\n",
            "3090/3090 [==============================] - 5s 2ms/step - loss: 0.3365 - accuracy: 0.8882\n",
            "Epoch 70/100\n",
            "3090/3090 [==============================] - 6s 2ms/step - loss: 0.3364 - accuracy: 0.8882\n",
            "Epoch 71/100\n",
            "3090/3090 [==============================] - 6s 2ms/step - loss: 0.3364 - accuracy: 0.8880\n",
            "Epoch 72/100\n",
            "3090/3090 [==============================] - 6s 2ms/step - loss: 0.3365 - accuracy: 0.8884\n",
            "Epoch 73/100\n",
            "3090/3090 [==============================] - 6s 2ms/step - loss: 0.3366 - accuracy: 0.8883\n",
            "Epoch 74/100\n",
            "3090/3090 [==============================] - 6s 2ms/step - loss: 0.3361 - accuracy: 0.8888\n",
            "Epoch 75/100\n",
            "3090/3090 [==============================] - 5s 2ms/step - loss: 0.3366 - accuracy: 0.8883\n",
            "Epoch 76/100\n",
            "3090/3090 [==============================] - 6s 2ms/step - loss: 0.3361 - accuracy: 0.8886\n",
            "Epoch 77/100\n",
            "3090/3090 [==============================] - 5s 2ms/step - loss: 0.3363 - accuracy: 0.8880\n",
            "Epoch 78/100\n",
            "3090/3090 [==============================] - 6s 2ms/step - loss: 0.3362 - accuracy: 0.8886\n",
            "Epoch 79/100\n",
            "3090/3090 [==============================] - 5s 2ms/step - loss: 0.3365 - accuracy: 0.8880\n",
            "Epoch 80/100\n",
            "3090/3090 [==============================] - 6s 2ms/step - loss: 0.3365 - accuracy: 0.8884\n",
            "Epoch 81/100\n",
            "3090/3090 [==============================] - 5s 2ms/step - loss: 0.3360 - accuracy: 0.8882\n",
            "Epoch 82/100\n",
            "3090/3090 [==============================] - 6s 2ms/step - loss: 0.3364 - accuracy: 0.8882\n",
            "Epoch 83/100\n",
            "3090/3090 [==============================] - 5s 2ms/step - loss: 0.3363 - accuracy: 0.8882\n",
            "Epoch 84/100\n",
            "3090/3090 [==============================] - 5s 2ms/step - loss: 0.3363 - accuracy: 0.8881\n",
            "Epoch 85/100\n",
            "3090/3090 [==============================] - 5s 2ms/step - loss: 0.3364 - accuracy: 0.8880\n",
            "Epoch 86/100\n",
            "3090/3090 [==============================] - 5s 2ms/step - loss: 0.3362 - accuracy: 0.8883\n",
            "Epoch 87/100\n",
            "3090/3090 [==============================] - 5s 2ms/step - loss: 0.3363 - accuracy: 0.8882\n",
            "Epoch 88/100\n",
            "3090/3090 [==============================] - 6s 2ms/step - loss: 0.3363 - accuracy: 0.8886\n",
            "Epoch 89/100\n",
            "3090/3090 [==============================] - 6s 2ms/step - loss: 0.3366 - accuracy: 0.8885\n",
            "Epoch 90/100\n",
            "3090/3090 [==============================] - 6s 2ms/step - loss: 0.3361 - accuracy: 0.8886\n",
            "Epoch 91/100\n",
            "3090/3090 [==============================] - 5s 2ms/step - loss: 0.3361 - accuracy: 0.8884\n",
            "Epoch 92/100\n",
            "3090/3090 [==============================] - 5s 2ms/step - loss: 0.3363 - accuracy: 0.8880\n",
            "Epoch 93/100\n",
            "3090/3090 [==============================] - 6s 2ms/step - loss: 0.3361 - accuracy: 0.8884\n",
            "Epoch 94/100\n",
            "3090/3090 [==============================] - 6s 2ms/step - loss: 0.3361 - accuracy: 0.8886\n",
            "Epoch 95/100\n",
            "3090/3090 [==============================] - 6s 2ms/step - loss: 0.3365 - accuracy: 0.8883\n",
            "Epoch 96/100\n",
            "3090/3090 [==============================] - 6s 2ms/step - loss: 0.3364 - accuracy: 0.8883\n",
            "Epoch 97/100\n",
            "3090/3090 [==============================] - 5s 2ms/step - loss: 0.3359 - accuracy: 0.8879\n",
            "Epoch 98/100\n",
            "3090/3090 [==============================] - 6s 2ms/step - loss: 0.3363 - accuracy: 0.8880\n",
            "Epoch 99/100\n",
            "3090/3090 [==============================] - 5s 2ms/step - loss: 0.3360 - accuracy: 0.8885\n",
            "Epoch 100/100\n",
            "3090/3090 [==============================] - 6s 2ms/step - loss: 0.3360 - accuracy: 0.8884\n"
          ]
        }
      ]
    },
    {
      "cell_type": "markdown",
      "source": [
        "#P7. Graficamos el entrenamiento"
      ],
      "metadata": {
        "id": "WyueXuuGA2Ih"
      }
    },
    {
      "cell_type": "code",
      "source": [
        "import matplotlib.pyplot as plt\n",
        "plt.xlabel('# época')\n",
        "plt.ylabel(\"Magnitud de pérdida\")\n",
        "plt.plot(historial.history[\"accuracy\"])"
      ],
      "metadata": {
        "colab": {
          "base_uri": "https://localhost:8080/",
          "height": 297
        },
        "id": "Y6KzAA_VA6dn",
        "outputId": "6b8ceddd-c9c2-4360-f4db-72c5c292324f"
      },
      "execution_count": 20,
      "outputs": [
        {
          "output_type": "execute_result",
          "data": {
            "text/plain": [
              "[<matplotlib.lines.Line2D at 0x7f99f6e36e90>]"
            ]
          },
          "metadata": {},
          "execution_count": 20
        },
        {
          "output_type": "display_data",
          "data": {
            "text/plain": [
              "<Figure size 432x288 with 1 Axes>"
            ],
            "image/png": "[encoded data removed]"
          },
          "metadata": {
            "needs_background": "light"
          }
        }
      ]
    },
    {
      "cell_type": "markdown",
      "source": [
        "# P8. Evaluamos la red neuronal"
      ],
      "metadata": {
        "id": "OypaFlTxBILs"
      }
    },
    {
      "cell_type": "code",
      "source": [
        "scores3 = model3.evaluate(X_test, Y_test)\n",
        "print(\"\\n%s: %.2f%%\" % (model3.metrics_names[1], scores3[1]*100))"
      ],
      "metadata": {
        "colab": {
          "base_uri": "https://localhost:8080/"
        },
        "id": "tLvwW8zuBKg5",
        "outputId": "ef28901b-20ab-417d-f101-66dab3a01f1c"
      },
      "execution_count": 21,
      "outputs": [
        {
          "output_type": "stream",
          "name": "stdout",
          "text": [
            "322/322 [==============================] - 1s 1ms/step - loss: 0.3401 - accuracy: 0.8846\n",
            "\n",
            "accuracy: 88.46%\n"
          ]
        }
      ]
    },
    {
      "cell_type": "code",
      "source": [
        "model3.save('DL_MERCADEO_BANCARIO.h5')"
      ],
      "metadata": {
        "id": "NryvWaFvBRwV"
      },
      "execution_count": 22,
      "outputs": []
    }
  ]
}