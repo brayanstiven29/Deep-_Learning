{
  "nbformat": 4,
  "nbformat_minor": 0,
  "metadata": {
    "colab": {
      "name": "P1T1_python_basic.ipynb",
      "provenance": [],
      "collapsed_sections": [],
      "toc_visible": true
    },
    "kernelspec": {
      "name": "python3",
      "display_name": "Python 3"
    },
    "language_info": {
      "name": "python"
    }
  },
  "cells": [
    {
      "cell_type": "markdown",
      "source": [
        "#Metadata:\n",
        "---\n",
        "*   @Author:Brayan Stiven Tarache Coba\n",
        "*   @Date:12/02/2022\n",
        "*   @Description:this notebook python show basic exercices in python\n",
        "\n",
        "\n",
        "\n",
        "\n",
        "\n",
        "\n",
        "\n"
      ],
      "metadata": {
        "id": "M775H9O7yjzV"
      }
    },
    {
      "cell_type": "markdown",
      "source": [
        "#Ejercios basicos\n"
      ],
      "metadata": {
        "id": "qI2dC6ZPz9vf"
      }
    },
    {
      "cell_type": "markdown",
      "source": [
        "##Ejercicio 1:productos + IVA"
      ],
      "metadata": {
        "id": "gJzpUpAn0JJt"
      }
    },
    {
      "cell_type": "code",
      "source": [
        "prod1= int(input(\"input firts product1:\"))\n",
        "prod2= int(input(\"input firts product2:\"))\n",
        "prod3= int(input(\"input firts product3:\"))\n",
        "prod4= int(input(\"input firts product4:\"))\n",
        "prod5= int(input(\"input firts product5:\"))\n",
        "suma= (prod5+prod4+prod3+prod2+prod1)\n",
        "iva = suma*0.19\n",
        "total = suma + iva\n",
        "print(\"valor bruto:\",suma,\"\\nIVA:\",iva,\"\\ntotal:\",total);\n",
        "\n"
      ],
      "metadata": {
        "colab": {
          "base_uri": "https://localhost:8080/"
        },
        "id": "AvUkxQvl0Xat",
        "outputId": "2d22c100-454e-4a8a-a61b-ee86096808cf"
      },
      "execution_count": null,
      "outputs": [
        {
          "output_type": "stream",
          "name": "stdout",
          "text": [
            "input firts product1:1\n",
            "input firts product2:2\n",
            "input firts product3:3\n",
            "input firts product4:4\n",
            "input firts product5:5\n",
            "valor bruto: 15 \n",
            "IVA: 2.85 \n",
            "total: 17.85\n"
          ]
        }
      ]
    },
    {
      "cell_type": "markdown",
      "source": [
        "#Version python"
      ],
      "metadata": {
        "id": "-mpTgKPk4Gvk"
      }
    },
    {
      "cell_type": "code",
      "source": [
        "pro1,pro2,pro3,pro4,pro5=input(\"input 1°,2°,3°,4° and 5° product with , separate\").split(\",\")\n",
        "suma= (prod5+prod4+prod3+prod2+prod1)\n",
        "print(\"valor bruto:\",suma,\"\\nIVA:\",(suma*0.19),\"\\ntotal:\",(suma+(suma*0.19)));\n"
      ],
      "metadata": {
        "colab": {
          "base_uri": "https://localhost:8080/"
        },
        "id": "qiyzzr4_4MxV",
        "outputId": "9ffea3c9-dc78-418a-fdbb-271e73fbb635"
      },
      "execution_count": null,
      "outputs": [
        {
          "output_type": "stream",
          "name": "stdout",
          "text": [
            "input 1°,2°,3°,4° and 5° product with , separate1,2,3,4,5\n",
            "valor bruto: 15 \n",
            "IVA: 2.85 \n",
            "total: 17.85\n"
          ]
        }
      ]
    },
    {
      "cell_type": "markdown",
      "source": [
        "#Ejercicio actividad 2"
      ],
      "metadata": {
        "id": "2K6KpTeA5-nS"
      }
    },
    {
      "cell_type": "code",
      "source": [
        "val1 = int(input(\"ingrese el primer numero\"))\n",
        "val2 = int(input(\"ingrese el primer numero\"))\n",
        "val3 = int(input(\"ingrese el primer numero\"))\n",
        "if(val1 > val2 and val1 > val3):\n",
        "  print(\"el numero mayor es n1:\"+str(val1))\n",
        "elif (val2>val1 and val2>val3):\n",
        "    print(\"el numero mayor es  n2:\"+str(val2))\n",
        "else:\n",
        "      print(\"el numero mayor es n3:\"+str(val3))\n",
        "if(val1 < val2 and val1 < val3):\n",
        "  print(\"el numero menor es n1:\"+str(val1))\n",
        "elif (val2<val1 and val2<val3):\n",
        "    print(\"el numero menor es  n2:\"+str(val2))\n",
        "else:\n",
        "      print(\"el numero menor es n3:\"+str(val3))\n",
        "\n",
        "prom=((val1+val2+val3)/3)\n",
        "print(\"el promedio de los valores son:\",prom)\n"
      ],
      "metadata": {
        "colab": {
          "base_uri": "https://localhost:8080/"
        },
        "id": "Av8xgWHI6fSh",
        "outputId": "5ca68293-3be5-40f5-d598-d2eeb0fae797"
      },
      "execution_count": null,
      "outputs": [
        {
          "output_type": "stream",
          "name": "stdout",
          "text": [
            "ingrese el primer numero5\n",
            "ingrese el primer numero7\n",
            "ingrese el primer numero6\n",
            "el numero mayor es  n2:7\n",
            "el numero menor es n1:5\n",
            "el promedio de los valores son: 6.0\n"
          ]
        }
      ]
    },
    {
      "cell_type": "markdown",
      "source": [
        "##version python:"
      ],
      "metadata": {
        "id": "zQZF1kmiADkS"
      }
    },
    {
      "cell_type": "code",
      "source": [
        "val1,val2,val3 = input(\"ingrese tres numeros separados por coma:\").split(\",\")\n",
        "print(\"El mayor es:\"+str(max(int(val1),int(val2),int(val3))))\n",
        "print(\"El menor es:\"+str(min(int(val1),int(val2),int(val3))))\n",
        " "
      ],
      "metadata": {
        "colab": {
          "base_uri": "https://localhost:8080/",
          "height": 269
        },
        "id": "LixHLhUXALas",
        "outputId": "c0588e8c-1a06-41a1-b097-9de8c1f5ff41"
      },
      "execution_count": null,
      "outputs": [
        {
          "output_type": "stream",
          "name": "stdout",
          "text": [
            "ingrese tres numeros separados por coma:4,5,6\n",
            "El mayor es:6\n",
            "El menor es:4\n"
          ]
        },
        {
          "output_type": "error",
          "ename": "TypeError",
          "evalue": "ignored",
          "traceback": [
            "\u001b[0;31m---------------------------------------------------------------------------\u001b[0m",
            "\u001b[0;31mTypeError\u001b[0m                                 Traceback (most recent call last)",
            "\u001b[0;32m<ipython-input-21-a1e7a90a71d3>\u001b[0m in \u001b[0;36m<module>\u001b[0;34m()\u001b[0m\n\u001b[1;32m      3\u001b[0m \u001b[0mprint\u001b[0m\u001b[0;34m(\u001b[0m\u001b[0;34m\"El menor es:\"\u001b[0m\u001b[0;34m+\u001b[0m\u001b[0mstr\u001b[0m\u001b[0;34m(\u001b[0m\u001b[0mmin\u001b[0m\u001b[0;34m(\u001b[0m\u001b[0mint\u001b[0m\u001b[0;34m(\u001b[0m\u001b[0mval1\u001b[0m\u001b[0;34m)\u001b[0m\u001b[0;34m,\u001b[0m\u001b[0mint\u001b[0m\u001b[0;34m(\u001b[0m\u001b[0mval2\u001b[0m\u001b[0;34m)\u001b[0m\u001b[0;34m,\u001b[0m\u001b[0mint\u001b[0m\u001b[0;34m(\u001b[0m\u001b[0mval3\u001b[0m\u001b[0;34m)\u001b[0m\u001b[0;34m)\u001b[0m\u001b[0;34m)\u001b[0m\u001b[0;34m)\u001b[0m\u001b[0;34m\u001b[0m\u001b[0;34m\u001b[0m\u001b[0m\n\u001b[1;32m      4\u001b[0m \u001b[0mdata\u001b[0m\u001b[0;34m=\u001b[0m\u001b[0;34m[\u001b[0m\u001b[0mval1\u001b[0m\u001b[0;34m,\u001b[0m\u001b[0mval2\u001b[0m\u001b[0;34m,\u001b[0m\u001b[0mval3\u001b[0m\u001b[0;34m]\u001b[0m\u001b[0;34m\u001b[0m\u001b[0;34m\u001b[0m\u001b[0m\n\u001b[0;32m----> 5\u001b[0;31m \u001b[0mmean\u001b[0m \u001b[0;34m=\u001b[0m \u001b[0msum\u001b[0m\u001b[0;34m(\u001b[0m\u001b[0mdata\u001b[0m\u001b[0;34m)\u001b[0m\u001b[0;34m/\u001b[0m\u001b[0mlen\u001b[0m\u001b[0;34m(\u001b[0m\u001b[0mdata\u001b[0m\u001b[0;34m)\u001b[0m\u001b[0;34m\u001b[0m\u001b[0;34m\u001b[0m\u001b[0m\n\u001b[0m\u001b[1;32m      6\u001b[0m \u001b[0mprint\u001b[0m\u001b[0;34m(\u001b[0m\u001b[0mmean\u001b[0m\u001b[0;34m)\u001b[0m\u001b[0;34m\u001b[0m\u001b[0;34m\u001b[0m\u001b[0m\n",
            "\u001b[0;31mTypeError\u001b[0m: unsupported operand type(s) for +: 'int' and 'str'"
          ]
        }
      ]
    }
  ]
}